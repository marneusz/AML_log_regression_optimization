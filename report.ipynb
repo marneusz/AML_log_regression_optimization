{
 "cells": [
  {
   "cell_type": "markdown",
   "metadata": {},
   "source": [
    "# Introduction"
   ]
  },
  {
   "cell_type": "markdown",
   "metadata": {},
   "source": [
    "The purpose of this project is to implement a logistic model from scratch. We begin with preparing the data for analysis, then   we implement 3 optimization algorithms for training the model, and finally we assess the result using statistical measures."
   ]
  },
  {
   "cell_type": "markdown",
   "metadata": {},
   "source": [
    "# Datasets"
   ]
  },
  {
   "cell_type": "markdown",
   "metadata": {},
   "source": [
    "Since the model need to be trained and tested, there is a need to prepare some data. We collected 5 datasets:\n",
    " * **candies** - dataset concerning production of candies. Sample questions addressed by the variables: *Does it contain chocolate?, Is it fruit flavored?, Is there caramel in the candy?, Does it contain peanuts, peanut butter or almonds?, Does it contain nougat?*. The target tell percentage of people who liked this candie type.\n",
    " * **breast cancer** - dataset describing health state of a patients suffering from breast cancer. The target variable describes if the cancer is maligant.\n",
    " * **bankrupcy** - this is a dataset from a recruiting task from a consulting firm. Variables include information of each candidating company, for example income, marketing statistics, ratings, sector number of employees, etc. The target variable represents information about bankrupcy. This dataset is significantly larger than other.\n",
    " * **nba** - dataset on all the NBA finals results and NBA Regular Seasons MVP.\n",
    " * **wine** - dataset related to red and white variants of the Portuguese \"Vinho Verde\" wine. \n",
    "  "
   ]
  },
  {
   "cell_type": "code",
   "execution_count": null,
   "metadata": {},
   "outputs": [],
   "source": []
  }
 ],
 "metadata": {
  "kernelspec": {
   "display_name": "AML_log_regression_optimization",
   "language": "python",
   "name": "aml_log_regression_optimization"
  },
  "language_info": {
   "codemirror_mode": {
    "name": "ipython",
    "version": 3
   },
   "file_extension": ".py",
   "mimetype": "text/x-python",
   "name": "python",
   "nbconvert_exporter": "python",
   "pygments_lexer": "ipython3",
   "version": "3.8.8"
  }
 },
 "nbformat": 4,
 "nbformat_minor": 4
}
